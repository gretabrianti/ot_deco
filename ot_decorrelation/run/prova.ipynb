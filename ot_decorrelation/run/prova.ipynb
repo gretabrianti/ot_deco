{
 "cells": [
  {
   "cell_type": "code",
   "execution_count": 40,
   "metadata": {},
   "outputs": [
    {
     "name": "stdout",
     "output_type": "stream",
     "text": [
      "dict_keys(['nepochs', 'lr_f', 'lr_g', 'epoch_size', 'datatype', 'f_per_g', 'g_per_f', 'burn_in', 'batch_size', 'loss_li_ratio', 'loss_wasser_ratio', 'grad_norm', 'learning_rate_scheduler'])\n",
      "HEY$$$$$$$$\n"
     ]
    },
    {
     "data": {
      "image/png": "[encoded data removed]",
      "text/plain": [
       "<Figure size 640x480 with 1 Axes>"
      ]
     },
     "metadata": {},
     "output_type": "display_data"
    },
    {
     "name": "stdout",
     "output_type": "stream",
     "text": [
      "tensor([[4.7040, 0.4007],\n",
      "        [4.7523, 0.0586],\n",
      "        [4.3297, 0.2291],\n",
      "        ...,\n",
      "        [4.0119, 0.1766],\n",
      "        [4.2444, 0.2306],\n",
      "        [4.2327, 0.6481]], grad_fn=<IndexBackward0>)\n",
      "(99000, 2)\n"
     ]
    }
   ],
   "source": [
    "\"OT decorrelation\"\n",
    "import pyrootutils\n",
    "\n",
    "#root = pyrootutils.setup_root(search_from=__file__, pythonpath=True)\n",
    "root = '/Users/gretabrianti/Work/decorrelation_methods2/ot_decorrelation'\n",
    "# print(root)\n",
    "\n",
    "import sys\n",
    "# caution: path[0] is reserved for script path (or '' in REPL)\n",
    "sys.path.insert(1, '/Users/gretabrianti/Work/decorrelation_methods2/ot_decorrelation')\n",
    "\n",
    "from tqdm import tqdm\n",
    "import logging\n",
    "log = logging.getLogger(__name__)\n",
    "# print(log)\n",
    "import numpy as np\n",
    "import hydra\n",
    "from omegaconf import OmegaConf,DictConfig\n",
    "\n",
    "import torch as T\n",
    "\n",
    "from sklearn.model_selection import train_test_split\n",
    "import src.pipeline as pl\n",
    "import src.loaders as loaders\n",
    "from src.PICNN.PICNN import PICNN\n",
    "import src.utils as utils \n",
    "import src.eval_utils as eval_utils  \n",
    "from src.trainer import Training\n",
    "import yaml\n",
    "\n",
    "\n",
    "configs = '/Users/gretabrianti/Work/decorrelation_methods2/ot_decorrelation/configs/ot_config.yaml'\n",
    "with open(configs, 'r') as fr:\n",
    "    config = yaml.full_load(fr)\n",
    "print(config['train_args'].keys())\n",
    "\n",
    "# define data\n",
    "output = pl.load_data(1, config.get(\"multi_clf\", None))\n",
    "# log.info(f\"Saving at {config.save_path}\")\n",
    "\n",
    "data = T.tensor(np.c_[output[\"mass\"], output[\"encodings\"]],\n",
    "                requires_grad=True).float()\n"
   ]
  },
  {
   "cell_type": "code",
   "execution_count": 45,
   "metadata": {},
   "outputs": [
    {
     "data": {
      "text/plain": [
       "array([0.])"
      ]
     },
     "execution_count": 45,
     "metadata": {},
     "output_type": "execute_result"
    }
   ],
   "source": [
    "np.unique(output['labels'])"
   ]
  },
  {
   "cell_type": "code",
   "execution_count": 60,
   "metadata": {},
   "outputs": [
    {
     "name": "stdout",
     "output_type": "stream",
     "text": [
      "HEY$$$$$$$$\n"
     ]
    },
    {
     "data": {
      "image/png": "[encoded data removed]",
      "text/plain": [
       "<Figure size 640x480 with 1 Axes>"
      ]
     },
     "metadata": {},
     "output_type": "display_data"
    },
    {
     "name": "stdout",
     "output_type": "stream",
     "text": [
      "torch.Size([231000, 2])\n",
      "torch.Size([99000, 2])\n",
      "(99000, 2)\n"
     ]
    }
   ],
   "source": [
    "\n",
    "\n",
    "train, test_source = train_test_split(data, test_size=0.3)\n",
    "\n",
    "log.info(f\"Training size: {train.shape}\")\n",
    "log.info(f\"Test size: {test_source.shape}\")\n",
    "\n",
    "# dataloaders\n",
    "source_loader = loaders.Dataset(train,\n",
    "                                nr_convex_dimensions=config['cvx_dim'],\n",
    "                                nr_nonconvex_dimensions=config['noncvx_dim'],\n",
    "                                batch_size=config['train_args']['batch_size'],\n",
    "                                device=config['device'])\n",
    "\n",
    "#return uniform distribution between 0,1 if cvx=1\n",
    "base_distribution = loaders.get_base_distribution(config['cvx_dim'],\n",
    "                                                    config['target_distribution'],\n",
    "                                                    logit=False, \n",
    "                                                    device=config['device'])\n",
    "\n",
    "target_loader = loaders.BaseDistribution(base_distribution,\n",
    "                                        device = config['device'],\n",
    "                                        batch_size=config['train_args']['batch_size'],\n",
    "                                        dims=config['cvx_dim']\n",
    "                                        )\n",
    "\n",
    "target_loader.sample(test_source[:,:config['cvx_dim']])\n",
    "test_source_1 = source_loader.data.clone()\n",
    "test_target=target_loader.data.clone()\n",
    "\n",
    "import matplotlib.pyplot as plt\n",
    "plt.hist(test_target.detach().numpy()[:,0], bins=30, range=(0,10), label='target')\n",
    "plt.hist(test_source.detach().numpy()[:,0], bins=30,histtype='step', range=(0,10), label='source')\n",
    "plt.hist(test_source_1.detach().numpy()[:,0], bins=30,histtype='step', range=(0,10), label='source_1')\n",
    "plt.legend()\n",
    "plt.yscale('log')\n",
    "plt.show()\n",
    "\n",
    "print(test_source_1.shape)\n",
    "print(test_source.shape)\n",
    "\n",
    "print(test_target.detach().numpy().shape)"
   ]
  },
  {
   "cell_type": "code",
   "execution_count": null,
   "metadata": {},
   "outputs": [],
   "source": []
  }
 ],
 "metadata": {
  "kernelspec": {
   "display_name": "Python 3",
   "language": "python",
   "name": "python3"
  },
  "language_info": {
   "codemirror_mode": {
    "name": "ipython",
    "version": 3
   },
   "file_extension": ".py",
   "mimetype": "text/x-python",
   "name": "python",
   "nbconvert_exporter": "python",
   "pygments_lexer": "ipython3",
   "version": "3.10.0"
  }
 },
 "nbformat": 4,
 "nbformat_minor": 2
}
